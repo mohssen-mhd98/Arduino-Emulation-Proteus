{
  "nbformat": 4,
  "nbformat_minor": 0,
  "metadata": {
    "colab": {
      "provenance": [],
      "authorship_tag": "ABX9TyNnxTBXseA4hn2Q5mI6NOZA",
      "include_colab_link": true
    },
    "kernelspec": {
      "name": "python3",
      "display_name": "Python 3"
    },
    "language_info": {
      "name": "python"
    }
  },
  "cells": [
    {
      "cell_type": "markdown",
      "metadata": {
        "id": "view-in-github",
        "colab_type": "text"
      },
      "source": [
        "<a href=\"https://colab.research.google.com/github/mohssen-mhd98/Arduino-Emulation-Proteus/blob/main/Cifar10Classification.ipynb\" target=\"_parent\"><img src=\"https://colab.research.google.com/assets/colab-badge.svg\" alt=\"Open In Colab\"/></a>"
      ]
    },
    {
      "cell_type": "code",
      "execution_count": 37,
      "metadata": {
        "id": "uq9ubUEMXprc"
      },
      "outputs": [],
      "source": [
        "from tensorflow import keras\n",
        "from tensorflow.keras import datasets, layers, losses\n",
        "import numpy as np\n",
        "import matplotlib.pyplot as plt"
      ]
    },
    {
      "cell_type": "code",
      "source": [
        "(train_images, train_labels), (test_images, test_labels) = datasets.cifar10.load_data()\n",
        "train_images, test_images = train_images / 255.0, test_images / 255.0"
      ],
      "metadata": {
        "id": "al8-BABPar3u"
      },
      "execution_count": 38,
      "outputs": []
    },
    {
      "cell_type": "code",
      "source": [
        "print(type(train_images))\n",
        "print(train_images.shape, train_labels.shape)"
      ],
      "metadata": {
        "colab": {
          "base_uri": "https://localhost:8080/"
        },
        "id": "UhL-fq50ck_C",
        "outputId": "0af9fd36-aed7-4c83-939d-10d7254c9b01"
      },
      "execution_count": 39,
      "outputs": [
        {
          "output_type": "stream",
          "name": "stdout",
          "text": [
            "<class 'numpy.ndarray'>\n",
            "(50000, 32, 32, 3) (50000, 1)\n"
          ]
        }
      ]
    },
    {
      "cell_type": "code",
      "source": [
        "class_name = [\"airplane\", \"automobile\", \"bird\", \"car\", \"deer\", \"dog\", \"frog\", \"horse\", \"ship\", \"truck\"]"
      ],
      "metadata": {
        "id": "-MjtSL6Uct7Z"
      },
      "execution_count": 40,
      "outputs": []
    },
    {
      "cell_type": "code",
      "source": [
        "index = 210\n",
        "plt.imshow(train_images[index])\n",
        "plt.title(class_name[train_labels[index][0]])"
      ],
      "metadata": {
        "colab": {
          "base_uri": "https://localhost:8080/",
          "height": 469
        },
        "id": "gB5zVHECdakl",
        "outputId": "11b8f59b-9363-46c6-b3b5-775ea3ddee95"
      },
      "execution_count": 41,
      "outputs": [
        {
          "output_type": "execute_result",
          "data": {
            "text/plain": [
              "Text(0.5, 1.0, 'frog')"
            ]
          },
          "metadata": {},
          "execution_count": 41
        },
        {
          "output_type": "display_data",
          "data": {
            "text/plain": [
              "<Figure size 640x480 with 1 Axes>"
            ],
            "image/png": "[encoded data removed]"
          },
          "metadata": {}
        }
      ]
    },
    {
      "cell_type": "code",
      "source": [
        "model = keras.Sequential([\n",
        "    layers.Conv2D(32, (3, 3), padding='same', kernel_initializer='he_uniform', activation='relu', input_shape=(32, 32, 3)),\n",
        "    layers.Conv2D(32, (3, 3), padding='same', kernel_initializer='he_uniform', activation='relu'),\n",
        "    layers.MaxPool2D((2,2)),\n",
        "    layers.Dropout(0.25),\n",
        "\n",
        "    layers.Conv2D(64, (3, 3), padding='same', kernel_initializer='he_uniform', activation='relu'),\n",
        "    layers.Conv2D(64, (3, 3), padding='same', kernel_initializer='he_uniform', activation='relu'),\n",
        "    layers.MaxPool2D((2,2)),\n",
        "    layers.Dropout(0.25),\n",
        "\n",
        "    layers.Conv2D(128, (3, 3), padding='same', kernel_initializer='he_uniform', activation='relu'),\n",
        "    layers.Conv2D(128, (3, 3), padding='same', kernel_initializer='he_uniform', activation='relu'),\n",
        "    layers.MaxPool2D((2,2)),\n",
        "    layers.Dropout(0.25),\n",
        "\n",
        "    layers.Flatten(),\n",
        "    layers.Dense(128, kernel_initializer='he_uniform', activation='relu'),\n",
        "    layers.Dropout(0.25),\n",
        "    layers.Dense(10, kernel_initializer='he_uniform', activation='softmax')\n",
        "])"
      ],
      "metadata": {
        "id": "rbHBaZaAeLUY"
      },
      "execution_count": 42,
      "outputs": []
    },
    {
      "cell_type": "code",
      "source": [
        "model.summary()"
      ],
      "metadata": {
        "colab": {
          "base_uri": "https://localhost:8080/"
        },
        "id": "ym5piL72g33r",
        "outputId": "f83708e9-49cc-44aa-9143-4fb3a097e665"
      },
      "execution_count": 43,
      "outputs": [
        {
          "output_type": "stream",
          "name": "stdout",
          "text": [
            "Model: \"sequential_4\"\n",
            "_________________________________________________________________\n",
            " Layer (type)                Output Shape              Param #   \n",
            "=================================================================\n",
            " conv2d_42 (Conv2D)          (None, 32, 32, 32)        896       \n",
            "                                                                 \n",
            " conv2d_43 (Conv2D)          (None, 32, 32, 32)        9248      \n",
            "                                                                 \n",
            " max_pooling2d_21 (MaxPooli  (None, 16, 16, 32)        0         \n",
            " ng2D)                                                           \n",
            "                                                                 \n",
            " dropout_4 (Dropout)         (None, 16, 16, 32)        0         \n",
            "                                                                 \n",
            " conv2d_44 (Conv2D)          (None, 16, 16, 64)        18496     \n",
            "                                                                 \n",
            " conv2d_45 (Conv2D)          (None, 16, 16, 64)        36928     \n",
            "                                                                 \n",
            " max_pooling2d_22 (MaxPooli  (None, 8, 8, 64)          0         \n",
            " ng2D)                                                           \n",
            "                                                                 \n",
            " dropout_5 (Dropout)         (None, 8, 8, 64)          0         \n",
            "                                                                 \n",
            " conv2d_46 (Conv2D)          (None, 8, 8, 128)         73856     \n",
            "                                                                 \n",
            " conv2d_47 (Conv2D)          (None, 8, 8, 128)         147584    \n",
            "                                                                 \n",
            " max_pooling2d_23 (MaxPooli  (None, 4, 4, 128)         0         \n",
            " ng2D)                                                           \n",
            "                                                                 \n",
            " dropout_6 (Dropout)         (None, 4, 4, 128)         0         \n",
            "                                                                 \n",
            " flatten_7 (Flatten)         (None, 2048)              0         \n",
            "                                                                 \n",
            " dense_13 (Dense)            (None, 128)               262272    \n",
            "                                                                 \n",
            " dropout_7 (Dropout)         (None, 128)               0         \n",
            "                                                                 \n",
            " dense_14 (Dense)            (None, 10)                1290      \n",
            "                                                                 \n",
            "=================================================================\n",
            "Total params: 550570 (2.10 MB)\n",
            "Trainable params: 550570 (2.10 MB)\n",
            "Non-trainable params: 0 (0.00 Byte)\n",
            "_________________________________________________________________\n"
          ]
        }
      ]
    },
    {
      "cell_type": "code",
      "source": [
        "model.compile(optimizer='adam',loss=losses.SparseCategoricalCrossentropy(), metrics=['accuracy'])"
      ],
      "metadata": {
        "id": "uyNHvtJ5hisn"
      },
      "execution_count": 44,
      "outputs": []
    },
    {
      "cell_type": "code",
      "source": [
        "history = model.fit(train_images, train_labels, batch_size=50, epochs=25, validation_data=(test_images, test_labels))"
      ],
      "metadata": {
        "colab": {
          "base_uri": "https://localhost:8080/"
        },
        "id": "5FeEYWp1jZIF",
        "outputId": "5b24e153-c92b-4659-ce61-a6a4c9d734a7"
      },
      "execution_count": 45,
      "outputs": [
        {
          "output_type": "stream",
          "name": "stdout",
          "text": [
            "Epoch 1/25\n",
            "1000/1000 [==============================] - 399s 397ms/step - loss: 1.7111 - accuracy: 0.3685 - val_loss: 1.2910 - val_accuracy: 0.5261\n",
            "Epoch 2/25\n",
            "1000/1000 [==============================] - 396s 396ms/step - loss: 1.2476 - accuracy: 0.5505 - val_loss: 1.0421 - val_accuracy: 0.6260\n",
            "Epoch 3/25\n",
            "1000/1000 [==============================] - 394s 395ms/step - loss: 1.0331 - accuracy: 0.6365 - val_loss: 0.8836 - val_accuracy: 0.6847\n",
            "Epoch 4/25\n",
            "1000/1000 [==============================] - 393s 393ms/step - loss: 0.9109 - accuracy: 0.6808 - val_loss: 0.8424 - val_accuracy: 0.7093\n",
            "Epoch 5/25\n",
            "1000/1000 [==============================] - 393s 393ms/step - loss: 0.8246 - accuracy: 0.7109 - val_loss: 0.7673 - val_accuracy: 0.7267\n",
            "Epoch 6/25\n",
            "1000/1000 [==============================] - 391s 391ms/step - loss: 0.7587 - accuracy: 0.7343 - val_loss: 0.6890 - val_accuracy: 0.7596\n",
            "Epoch 7/25\n",
            "1000/1000 [==============================] - 393s 392ms/step - loss: 0.7151 - accuracy: 0.7507 - val_loss: 0.6820 - val_accuracy: 0.7651\n",
            "Epoch 8/25\n",
            "1000/1000 [==============================] - 393s 393ms/step - loss: 0.6756 - accuracy: 0.7644 - val_loss: 0.6773 - val_accuracy: 0.7690\n",
            "Epoch 9/25\n",
            "1000/1000 [==============================] - 403s 403ms/step - loss: 0.6412 - accuracy: 0.7747 - val_loss: 0.6809 - val_accuracy: 0.7757\n",
            "Epoch 10/25\n",
            "1000/1000 [==============================] - 402s 402ms/step - loss: 0.6186 - accuracy: 0.7839 - val_loss: 0.6384 - val_accuracy: 0.7811\n",
            "Epoch 11/25\n",
            "1000/1000 [==============================] - 398s 398ms/step - loss: 0.5969 - accuracy: 0.7944 - val_loss: 0.6590 - val_accuracy: 0.7742\n",
            "Epoch 12/25\n",
            "1000/1000 [==============================] - 393s 393ms/step - loss: 0.5767 - accuracy: 0.7994 - val_loss: 0.6074 - val_accuracy: 0.7979\n",
            "Epoch 13/25\n",
            "1000/1000 [==============================] - 390s 390ms/step - loss: 0.5578 - accuracy: 0.8052 - val_loss: 0.6279 - val_accuracy: 0.7910\n",
            "Epoch 14/25\n",
            "1000/1000 [==============================] - 387s 387ms/step - loss: 0.5492 - accuracy: 0.8088 - val_loss: 0.6030 - val_accuracy: 0.7982\n",
            "Epoch 15/25\n",
            "1000/1000 [==============================] - 392s 392ms/step - loss: 0.5299 - accuracy: 0.8140 - val_loss: 0.6105 - val_accuracy: 0.7980\n",
            "Epoch 16/25\n",
            "1000/1000 [==============================] - 389s 389ms/step - loss: 0.5156 - accuracy: 0.8197 - val_loss: 0.6404 - val_accuracy: 0.7941\n",
            "Epoch 17/25\n",
            "1000/1000 [==============================] - 390s 390ms/step - loss: 0.5088 - accuracy: 0.8216 - val_loss: 0.6231 - val_accuracy: 0.7971\n",
            "Epoch 18/25\n",
            "1000/1000 [==============================] - 385s 385ms/step - loss: 0.4921 - accuracy: 0.8280 - val_loss: 0.6181 - val_accuracy: 0.7954\n",
            "Epoch 19/25\n",
            "1000/1000 [==============================] - 391s 391ms/step - loss: 0.4840 - accuracy: 0.8317 - val_loss: 0.5900 - val_accuracy: 0.8075\n",
            "Epoch 20/25\n",
            "1000/1000 [==============================] - 388s 388ms/step - loss: 0.4796 - accuracy: 0.8309 - val_loss: 0.5975 - val_accuracy: 0.8074\n",
            "Epoch 21/25\n",
            "1000/1000 [==============================] - 386s 386ms/step - loss: 0.4684 - accuracy: 0.8372 - val_loss: 0.6016 - val_accuracy: 0.8056\n",
            "Epoch 22/25\n",
            "1000/1000 [==============================] - 391s 391ms/step - loss: 0.4613 - accuracy: 0.8395 - val_loss: 0.5818 - val_accuracy: 0.8113\n",
            "Epoch 23/25\n",
            "1000/1000 [==============================] - 386s 386ms/step - loss: 0.4511 - accuracy: 0.8419 - val_loss: 0.5956 - val_accuracy: 0.8084\n",
            "Epoch 24/25\n",
            "1000/1000 [==============================] - 388s 388ms/step - loss: 0.4460 - accuracy: 0.8437 - val_loss: 0.5914 - val_accuracy: 0.8146\n",
            "Epoch 25/25\n",
            "1000/1000 [==============================] - 389s 390ms/step - loss: 0.4453 - accuracy: 0.8450 - val_loss: 0.5854 - val_accuracy: 0.8159\n"
          ]
        }
      ]
    },
    {
      "cell_type": "code",
      "source": [
        "plt.plot(history.history['accuracy'], label='accuracy')\n",
        "plt.plot(history.history['val_accuracy'], label='val_accuaracy')\n",
        "plt.ylim([0.5, 1])\n",
        "plt.legend(loc='lower right')"
      ],
      "metadata": {
        "colab": {
          "base_uri": "https://localhost:8080/",
          "height": 452
        },
        "id": "8y5o1_BbkDaq",
        "outputId": "f9d6db86-433f-4ea9-b271-154ff022f2a9"
      },
      "execution_count": 48,
      "outputs": [
        {
          "output_type": "execute_result",
          "data": {
            "text/plain": [
              "<matplotlib.legend.Legend at 0x7c2c1c17d990>"
            ]
          },
          "metadata": {},
          "execution_count": 48
        },
        {
          "output_type": "display_data",
          "data": {
            "text/plain": [
              "<Figure size 640x480 with 1 Axes>"
            ],
            "image/png": "[encoded data removed]"
          },
          "metadata": {}
        }
      ]
    }
  ]
}